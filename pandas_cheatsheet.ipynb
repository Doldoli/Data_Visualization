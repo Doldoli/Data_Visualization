{
 "cells": [
  {
   "cell_type": "markdown",
   "metadata": {},
   "source": [
    "### show basic infos \n",
    ".head() returns the first few rows\n",
    "<br>.info() shows information on each of the columns\n",
    "<br>.shape return the number of rows and columns of the DataFrame\n",
    "<br>.describe() calculates a few summary statistics"
   ]
  },
  {
   "cell_type": "markdown",
   "metadata": {},
   "source": [
    ".values: A two-dimensional NumPy array of values.\n",
    "<br>.columns: An index of columns: the column names.\n",
    "<br>.index: An index for the rows: either row numbers or row names.\n",
    "<br> line continuation use backslash \\"
   ]
  },
  {
   "cell_type": "markdown",
   "metadata": {},
   "source": [
    "### sorting values"
   ]
  },
  {
   "cell_type": "code",
   "execution_count": null,
   "metadata": {},
   "outputs": [],
   "source": [
    "df.sort_values(\"breed\") # for one column\n",
    "df.sort_values([\"breed\",\"weight_kg\"]) # for multiple columns\n",
    "df.sort_values([\"region\", \"family_members\"], ascending=[True, False])\n",
    "df.sort_index() # sort index"
   ]
  },
  {
   "cell_type": "markdown",
   "metadata": {},
   "source": [
    "### selecting columns\n",
    "select a single column\n",
    "<br> df[\"col_a\"]\n",
    "<br> select multiple column\n",
    "<br> df[[\"col_a\", \"col_b\"]]"
   ]
  },
  {
   "cell_type": "markdown",
   "metadata": {},
   "source": [
    "### subsetting"
   ]
  },
  {
   "cell_type": "code",
   "execution_count": null,
   "metadata": {},
   "outputs": [],
   "source": [
    "dogs[dogs[\"height_cm\"] > 60]\n",
    "dogs[dogs[\"color\"] == \"tan\"]\n",
    "dogs[(dogs[\"height_cm\"] > 60) & (dogs[\"color\"] == \"tan\")]"
   ]
  },
  {
   "cell_type": "code",
   "execution_count": null,
   "metadata": {},
   "outputs": [],
   "source": [
    "colors = [\"brown\", \"black\", \"tan\"]\n",
    "condition = dogs[\"color\"].isin(colors)\n",
    "dogs[condition]"
   ]
  },
  {
   "cell_type": "markdown",
   "metadata": {},
   "source": [
    "### Adding new columns"
   ]
  },
  {
   "cell_type": "code",
   "execution_count": null,
   "metadata": {},
   "outputs": [],
   "source": [
    "df[\"name_new_column\"] = df[\"adding\"] + df[\"adding2\"]"
   ]
  },
  {
   "cell_type": "markdown",
   "metadata": {},
   "source": [
    "### Statistics"
   ]
  },
  {
   "cell_type": "code",
   "execution_count": null,
   "metadata": {},
   "outputs": [],
   "source": [
    "# mean and median\n",
    "df[\"selected_column\"].mean()\n",
    "df[\"selected_column\"].median()\n",
    "# Print the maximum of the date column\n",
    "print(sales[\"date\"].max())\n",
    "print(sales[\"date\"].min())\n",
    "# cumulated\n",
    "df[\"column\"].cumsum()\n",
    "df[\"column\"].cummax()"
   ]
  },
  {
   "cell_type": "markdown",
   "metadata": {},
   "source": [
    "### Counting and remove duplicates"
   ]
  },
  {
   "cell_type": "code",
   "execution_count": null,
   "metadata": {},
   "outputs": [],
   "source": [
    "# remove duplicate on two columns or one\n",
    "new_df = df.drop_duplicates([\"column1\", \"column2\"])\n",
    "new_df = df.drop_duplicates(\"column1\")\n",
    "# count element of columns\n",
    "df[\"column\"].sum()\n",
    "# count the number of each type\n",
    "df.groupby(\"type\").size() or df[\"type\"].value_counts()\n",
    "# count rows of column\n",
    "len(df.index)"
   ]
  },
  {
   "cell_type": "markdown",
   "metadata": {},
   "source": [
    "### line continuation / break"
   ]
  },
  {
   "cell_type": "code",
   "execution_count": 5,
   "metadata": {
    "collapsed": true
   },
   "outputs": [
    {
     "name": "stdout",
     "output_type": "stream",
     "text": [
      "hello world\n"
     ]
    }
   ],
   "source": [
    "# use backslash\n",
    "print(\"hello \\\n",
    "world\")"
   ]
  },
  {
   "cell_type": "markdown",
   "metadata": {},
   "source": [
    "### Grouping"
   ]
  },
  {
   "cell_type": "code",
   "execution_count": null,
   "metadata": {},
   "outputs": [],
   "source": [
    "# too repetitive\n",
    "dogs[dogs[\"color\"] == \"Black\"][\"weight_kg\"].mean()\n",
    "dogs[dogs[\"color\"] == \"Brown\"][\"weight_kg\"].mean()\n",
    "dogs[dogs[\"color\"] == \"White\"][\"weight_kg\"].mean()\n",
    "dogs[dogs[\"color\"] == \"Gray\"][\"weight_kg\"].mean()\n",
    "# better with groupby\n",
    "dogs.groupby(\"color\")[\"weight_kg\"].mean()\n",
    "# groupby with two elements\n",
    "dogs.groupby([\"color\", \"eye_color\"])[\"weight_kg\"].mean()\n",
    "# .agg = to perform multiple statistics methods at once\n",
    "dogs.groupby(\"color\")[\"weight_kg\"].agg([min, max, sum])\n",
    "# sometimes you need to do include np\n",
    "sales_stats = sales.groupby(\"type\")[\"weekly_sales\"].agg([np.min, np.max, np.mean, np.median])\n",
    "# group by column, count items and get result as DataFrame\n",
    "new_df = df.groupby('column_to_group').size().reset_index(name='quantity_of_objects')"
   ]
  },
  {
   "cell_type": "markdown",
   "metadata": {},
   "source": [
    "### Pivot tables, alternative to grouping"
   ]
  },
  {
   "cell_type": "code",
   "execution_count": null,
   "metadata": {
    "scrolled": true
   },
   "outputs": [],
   "source": [
    "# the result will be the same as above\n",
    "dogs.pivot_table(values=\"weight_kg\", index=\"color\", aggfunc=np.median)\n",
    "# groupby and pivot tables differences\n",
    "dogs.groupby([\"color\", \"eye_color\"])[\"weight_kg\"].mean()\n",
    "dogs.pivot_table(values=\"weight_kg\", index=\"color\", columns = \"breed\")\n",
    "# setting multiple indexes\n",
    "dogs.pivot_table(values=\"weight_kg\", index=[\"color\", \"eye_color\"], columns = \"breed\")\n",
    "# fill values\n",
    "dogs.pivot_table(values=\"weight_kg\", index=\"color\", columns = \"breed\", fill_value = 0, margins = True)\n",
    "# filter for max values\n",
    "df[df == df.max()]"
   ]
  },
  {
   "cell_type": "markdown",
   "metadata": {},
   "source": [
    "### setting index"
   ]
  },
  {
   "cell_type": "code",
   "execution_count": null,
   "metadata": {},
   "outputs": [],
   "source": [
    "# get columns\n",
    "df.columns()\n",
    "# moving a column of the body to be an index. Index is 0, 1, 2, 3 in the left at the beginning\n",
    "new_df = df.set_index(\"chosen-column\")\n",
    "# multilevel indexes\n",
    "new_df = df.set_index([\"chosen-column\", \"second-chosen-column\"])\n",
    "# setting index when import csv\n",
    "pd.read_csv(\"your-file.csv\", index_col=[\"column-index\"])\n",
    "# undo index\n",
    "df.reset_index()\n",
    "# remove index completely and not return it back to body\n",
    "df.reset_index(drop= True)"
   ]
  },
  {
   "cell_type": "markdown",
   "metadata": {},
   "source": [
    "### add columns and rows"
   ]
  },
  {
   "cell_type": "code",
   "execution_count": null,
   "metadata": {},
   "outputs": [],
   "source": [
    "# add column\n",
    "df[\"new-column\"] = [values]\n",
    "# add row\n",
    "df.loc[\"new-row\"] = [values]\n",
    "# delete row\n",
    "df.drop(\"new-row\")\n",
    "# delete column\n",
    "df.drop(columns=['column']"
   ]
  },
  {
   "cell_type": "markdown",
   "metadata": {},
   "source": [
    "### replace values"
   ]
  },
  {
   "cell_type": "code",
   "execution_count": null,
   "metadata": {},
   "outputs": [],
   "source": [
    "# replace a single value\n",
    "df.replace(to_replace =\"old value\", value = \"new value\")\n",
    "# replace multiple values better, complex methods\n",
    "# df[\"selected-column\"] at the beginning is to save values to df original\n",
    "df['selected-column'] = df['selected-column'].map({'old-value': \"new-value\", 'second-old-value': \"second-new-value\"})\n",
    "# replace specific value in column without map through each items\n",
    "df[\"selected-column\"].replace(\"old-value\", \"new-value\")"
   ]
  },
  {
   "cell_type": "markdown",
   "metadata": {},
   "source": [
    "### slicing"
   ]
  },
  {
   "cell_type": "code",
   "execution_count": 10,
   "metadata": {},
   "outputs": [],
   "source": [
    "import pandas as pd\n",
    "import numpy as np\n",
    "\n",
    "data = {'animal': ['cat', 'cat', 'snake', 'dog', 'dog', 'cat', 'snake', 'cat', 'dog', 'dog'],\n",
    "        'age': [2.5, 3, 0.5, np.nan, 5, 2, 4.5, np.nan, 7, 3],\n",
    "        'visits': [1, 3, 2, 3, 2, 3, 1, 1, 2, 1],\n",
    "        'priority': ['yes', 'yes', 'no', 'yes', 'no', 'no', 'no', 'yes', 'no', 'no']}\n",
    "\n",
    "labels = ['a', 'b', 'c', 'd', 'e', 'f', 'g', 'h', 'i', 'j']\n",
    "\n",
    "df = pd.DataFrame(data, index=labels)\n",
    "second_df = df.set_index([\"animal\", \"visits\"]).sort_index()"
   ]
  },
  {
   "cell_type": "code",
   "execution_count": null,
   "metadata": {},
   "outputs": [],
   "source": [
    "# slicing row\n",
    "df.loc[\"row\"]\n",
    "df.loc[\"a\"]"
   ]
  },
  {
   "cell_type": "code",
   "execution_count": null,
   "metadata": {},
   "outputs": [],
   "source": [
    "# slicing with iloc\n",
    "df.iloc[firstrow:lastrow, firstcolumn:lastcolumn]\n",
    "df.iloc[2:5, 1:3]"
   ]
  },
  {
   "cell_type": "code",
   "execution_count": null,
   "metadata": {},
   "outputs": [],
   "source": [
    "# slicing rows (example: from row a to c)\n",
    "df.loc[\"first-row\":\"last-row\"]\n",
    "df.loc[\"a\":\"c\"]"
   ]
  },
  {
   "cell_type": "code",
   "execution_count": null,
   "metadata": {},
   "outputs": [],
   "source": [
    "# slicing inner index\n",
    "temperatures_srt.loc[(\"Pakistan\",\"Lahore\"):(\"Russia\", \"Moscow\")]\n",
    "second_df.loc[(\"cat\", 1):(\"dog\", 2)]"
   ]
  },
  {
   "cell_type": "code",
   "execution_count": null,
   "metadata": {},
   "outputs": [],
   "source": [
    "#slicing columns\n",
    "# .loc[row, column]\n",
    "df.loc[:, \"column-name\"] or df[\"column-name\"]\n",
    "df.loc[:, \"column-1\":\"column-2\"]\n",
    "# slice spefic columns with a list\n",
    "df.loc[:, [\"column-1\", \"column-2\", \"column-3\"]]\n"
   ]
  },
  {
   "cell_type": "code",
   "execution_count": null,
   "metadata": {},
   "outputs": [],
   "source": [
    "# slice rows and columns at the same time\n",
    "df.loc[\"row\", \"column\"]\n",
    "df.loc[\"row-1\":\"row-2\", \"column-1\": \"column-2\"]\n",
    "df.loc[(\"row-1\",\"row-1-second-index\"):(\"row-2\",\"row-2-second-index\"), \"column-1\": \"column-2\"]\n",
    "df.loc[(\"a\", \"b\"):(\"c\", \"d\"), \"e\":\"f\"]\n",
    "# slice rows and columns with conditions\n",
    "df.loc[\"row-1\" ==\"condition\", \"column\"]"
   ]
  },
  {
   "cell_type": "code",
   "execution_count": null,
   "metadata": {},
   "outputs": [],
   "source": [
    "# slice dates\n",
    "df.loc[\"first-date\":\"last-date\"]\n",
    "df.loc[\"2014-08-25\":\"2016-09-16\"]\n",
    "# slice years (years need to be in string)\n",
    "df.loc[\"2014\":\"2016\"]\n",
    "# when slicing years, always write down the full dates\n",
    "df[(df[\"date\"] >= \"2010-01-01\") & (df[\"date\"] <= \"2011-12-31\")]\n",
    "#extract only year\n",
    "df[\"column-where-the-date-is\"].dt.year"
   ]
  },
  {
   "cell_type": "markdown",
   "metadata": {},
   "source": [
    "### detect missing values"
   ]
  },
  {
   "cell_type": "code",
   "execution_count": null,
   "metadata": {},
   "outputs": [],
   "source": [
    "# replace values with true and false. True for NaN\n",
    "df.isna()\n",
    "# check if column has NaN(Not a number)\n",
    "df.isna().any()\n",
    "#counting missing values\n",
    "df.isna().sum()\n",
    "# remove missing values\n",
    "df.dropna()\n",
    "# plotting missing values to see with plt\n",
    "df.isna().sum().plot(kind=\"bar\")\n",
    "#replace missing values\n",
    "df.fillna(your_desired_value)\n",
    "df.fillna(0)"
   ]
  },
  {
   "cell_type": "markdown",
   "metadata": {},
   "source": [
    "### Lists to Dataframe"
   ]
  },
  {
   "cell_type": "code",
   "execution_count": null,
   "metadata": {},
   "outputs": [],
   "source": [
    "# dict - by row\n",
    "dict = [\n",
    "    {\"name\": \"Duc\", \"age\": 19, \"location\": \"Kiel\"},\n",
    "    {\"name\": \"Anna\", \"age\": 22, \"location\": \"Düsseldorf\"},\n",
    "    {\"name\": \"Ryan\", \"age\": 99, \"location\": \"New York\"}\n",
    "]\n",
    "# dict - by column\n",
    "dict = [\n",
    "    \"name\": [\"Duc\", \"Anna\", \"Ryan\"],\n",
    "    \"age\": [19, 22, 99],\n",
    "    \"location\": [\"Kiel\", \"Düsseldorf\", \"New York\"]\n",
    "]\n",
    "pd.DataFrame(dict)"
   ]
  },
  {
   "cell_type": "markdown",
   "metadata": {},
   "source": [
    "### CSV"
   ]
  },
  {
   "cell_type": "code",
   "execution_count": null,
   "metadata": {},
   "outputs": [],
   "source": [
    "# convert pandas to csv\n",
    "df.to_csv(\"name.csv\")\n",
    "# read csv\n",
    "pd.read_csv(\"name.csv\")"
   ]
  },
  {
   "cell_type": "markdown",
   "metadata": {},
   "source": [
    "### Merging"
   ]
  },
  {
   "cell_type": "code",
   "execution_count": null,
   "metadata": {
    "collapsed": true
   },
   "outputs": [],
   "source": [
    "# merging on the same column (inner join)\n",
    "#column exists on both tables with the same data\n",
    "df.merge(df_to_merge, on=\"column_to_merge\", suffixes=(\"ending_same_column_df1\", \"ending_same_column_df2\"))\n",
    "# merge on multiple column\n",
    "df.merge(df_to_merge, on=[\"column1\", \"column2\"])"
   ]
  },
  {
   "cell_type": "code",
   "execution_count": null,
   "metadata": {},
   "outputs": [],
   "source": [
    "# merging multiple tables shortcuts\n",
    "df1.merge(df2, on=\"col\") \\\n",
    "        .merge(df3, on=\"col\") \\\n",
    "        .merge(df4, on=\"col\")"
   ]
  },
  {
   "cell_type": "markdown",
   "metadata": {},
   "source": [
    "### Aggregation"
   ]
  },
  {
   "cell_type": "code",
   "execution_count": null,
   "metadata": {},
   "outputs": [],
   "source": [
    "# mean on column\n",
    "df.groupby(\"column\").agg({\"column\": \"mean\"})\n",
    "# sum on column\n",
    "df.groupby(\"column\").agg({\"column\": \"sum\"})"
   ]
  },
  {
   "cell_type": "markdown",
   "metadata": {},
   "source": [
    "### Query "
   ]
  },
  {
   "cell_type": "code",
   "execution_count": null,
   "metadata": {},
   "outputs": [],
   "source": [
    "#query is similiar to where in sql\n",
    "df.query(\"Some selection statement\")\n",
    "#query with one condition\n",
    "df.query(\"column >= statement\")\n",
    "df.query(\"age >= 20\")\n",
    "#query with multiple conditions\n",
    "df.query('column > condition  and another_column == \"condition\"  ')\n",
    "df.query('column > condition  or ( another_column == \"condition\"  and column < condition)')"
   ]
  }
 ],
 "metadata": {
  "kernelspec": {
   "display_name": "Python 3",
   "language": "python",
   "name": "python3"
  },
  "language_info": {
   "codemirror_mode": {
    "name": "ipython",
    "version": 3
   },
   "file_extension": ".py",
   "mimetype": "text/x-python",
   "name": "python",
   "nbconvert_exporter": "python",
   "pygments_lexer": "ipython3",
   "version": "3.8.3"
  }
 },
 "nbformat": 4,
 "nbformat_minor": 4
}
